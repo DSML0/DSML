{
  "nbformat": 4,
  "nbformat_minor": 0,
  "metadata": {
    "colab": {
      "provenance": []
    },
    "kernelspec": {
      "name": "python3",
      "display_name": "Python 3"
    },
    "language_info": {
      "name": "python"
    }
  },
  "cells": [
    {
      "cell_type": "code",
      "execution_count": 1,
      "metadata": {
        "colab": {
          "base_uri": "https://localhost:8080/"
        },
        "id": "MNED1GFyQQDK",
        "outputId": "71297566-09a8-49e0-c504-6b08e7b403e4"
      },
      "outputs": [
        {
          "output_type": "stream",
          "name": "stdout",
          "text": [
            "10\n"
          ]
        }
      ],
      "source": [
        "print(10)"
      ]
    },
    {
      "cell_type": "code",
      "source": [
        "print(-10.878734)"
      ],
      "metadata": {
        "colab": {
          "base_uri": "https://localhost:8080/"
        },
        "id": "opwAizApQwbj",
        "outputId": "2930e4c9-2fad-4c32-a7a8-6a27b5cd276b"
      },
      "execution_count": 2,
      "outputs": [
        {
          "output_type": "stream",
          "name": "stdout",
          "text": [
            "-10.878734\n"
          ]
        }
      ]
    },
    {
      "cell_type": "code",
      "source": [
        "print(10+2)"
      ],
      "metadata": {
        "colab": {
          "base_uri": "https://localhost:8080/"
        },
        "id": "awUhgWltQ-Lc",
        "outputId": "d526fe62-7afb-4cc7-9f1a-3e58a0155461"
      },
      "execution_count": 3,
      "outputs": [
        {
          "output_type": "stream",
          "name": "stdout",
          "text": [
            "12\n"
          ]
        }
      ]
    },
    {
      "cell_type": "code",
      "source": [
        "print(9-100)"
      ],
      "metadata": {
        "colab": {
          "base_uri": "https://localhost:8080/"
        },
        "id": "cm0EdJkiROAR",
        "outputId": "75155291-cf61-4296-d9ff-98f07f078984"
      },
      "execution_count": 4,
      "outputs": [
        {
          "output_type": "stream",
          "name": "stdout",
          "text": [
            "-91\n"
          ]
        }
      ]
    },
    {
      "cell_type": "code",
      "source": [
        "print(\"Hello World!\")\n",
        "print('Hello World!')\n",
        "print('''Hello World!''')"
      ],
      "metadata": {
        "colab": {
          "base_uri": "https://localhost:8080/"
        },
        "id": "10zA3focRR-b",
        "outputId": "6a90e628-994f-4c2b-d0bf-c68f801cd3f6"
      },
      "execution_count": 6,
      "outputs": [
        {
          "output_type": "stream",
          "name": "stdout",
          "text": [
            "Hello World!\n",
            "Hello World!\n",
            "Hello World!\n"
          ]
        }
      ]
    },
    {
      "cell_type": "code",
      "source": [
        "print('Hello'+' World!')\n",
        "print('Hello'+ ' ' + 'World!')\n",
        "print('Hello'+' World!')"
      ],
      "metadata": {
        "colab": {
          "base_uri": "https://localhost:8080/"
        },
        "id": "1rDVuhadRjcH",
        "outputId": "2b676ac0-1712-417a-ce26-c0d720cc36e8"
      },
      "execution_count": 11,
      "outputs": [
        {
          "output_type": "stream",
          "name": "stdout",
          "text": [
            "Hello World!\n",
            "Hello World!\n",
            "Hello World!\n"
          ]
        }
      ]
    },
    {
      "cell_type": "code",
      "source": [
        "print('Hello '* 2)"
      ],
      "metadata": {
        "colab": {
          "base_uri": "https://localhost:8080/"
        },
        "id": "pGegARrERtW2",
        "outputId": "694a7076-aa8e-40e9-d8cd-d8508f28c71b"
      },
      "execution_count": 12,
      "outputs": [
        {
          "output_type": "stream",
          "name": "stdout",
          "text": [
            "Hello Hello \n"
          ]
        }
      ]
    },
    {
      "cell_type": "code",
      "source": [
        "print('10')"
      ],
      "metadata": {
        "colab": {
          "base_uri": "https://localhost:8080/"
        },
        "id": "bA5QxYhvSD9f",
        "outputId": "94e70ed3-626b-4656-84f7-1fe5867f7000"
      },
      "execution_count": 13,
      "outputs": [
        {
          "output_type": "stream",
          "name": "stdout",
          "text": [
            "10\n"
          ]
        }
      ]
    },
    {
      "cell_type": "code",
      "source": [
        "print('Hello', 10)\n",
        "print(\"Hello\",\"World\",\"10\",10,20,-10,20+20,' ')"
      ],
      "metadata": {
        "colab": {
          "base_uri": "https://localhost:8080/"
        },
        "id": "ZlkmKC3QSNKB",
        "outputId": "b1627d07-9151-4a5c-c2f1-ccdf0c9140c4"
      },
      "execution_count": 16,
      "outputs": [
        {
          "output_type": "stream",
          "name": "stdout",
          "text": [
            "Hello 10\n",
            "Hello World 10 10 20 -10 40  \n"
          ]
        }
      ]
    },
    {
      "cell_type": "code",
      "source": [
        "print('Hello '*10)"
      ],
      "metadata": {
        "colab": {
          "base_uri": "https://localhost:8080/"
        },
        "id": "mq6-j4KmTBwZ",
        "outputId": "377b2c47-3674-4cc0-9a4f-62cb0c72ff7b"
      },
      "execution_count": 17,
      "outputs": [
        {
          "output_type": "stream",
          "name": "stdout",
          "text": [
            "Hello Hello Hello Hello Hello Hello Hello Hello Hello Hello \n"
          ]
        }
      ]
    },
    {
      "cell_type": "code",
      "source": [
        "# I am commented\n",
        "'''\n",
        "This is the commented code for multiple line\n",
        "This is the commented code for multiple line\n",
        "This is the commented code for multiple line\n",
        "'''"
      ],
      "metadata": {
        "colab": {
          "base_uri": "https://localhost:8080/",
          "height": 53
        },
        "id": "95ODSeg7TTu_",
        "outputId": "92d2d070-f312-4bd3-df9b-4a529eded626"
      },
      "execution_count": 20,
      "outputs": [
        {
          "output_type": "execute_result",
          "data": {
            "text/plain": [
              "'\\nThis is the commented code for multiple line\\nThis is the commented code for multiple line\\nThis is the commented code for multiple line\\n'"
            ],
            "application/vnd.google.colaboratory.intrinsic+json": {
              "type": "string"
            }
          },
          "metadata": {},
          "execution_count": 20
        }
      ]
    },
    {
      "cell_type": "markdown",
      "source": [
        "**Print the text**\n",
        "\n",
        "Hello\n",
        "\n",
        "World !"
      ],
      "metadata": {
        "id": "cT2Y5rYzUOFV"
      }
    },
    {
      "cell_type": "code",
      "source": [
        "print('Hello')\n",
        "print('')\n",
        "print('World !')"
      ],
      "metadata": {
        "colab": {
          "base_uri": "https://localhost:8080/"
        },
        "id": "EsopI87_UZA8",
        "outputId": "24609f1c-a3d9-410c-e3a6-9dd3dd08d69a"
      },
      "execution_count": 22,
      "outputs": [
        {
          "output_type": "stream",
          "name": "stdout",
          "text": [
            "Hello\n",
            "\n",
            "World !\n"
          ]
        }
      ]
    },
    {
      "cell_type": "markdown",
      "source": [
        "Perform the following operations on 6 and 3 and print their respective outputs in different lines.\n",
        "1. Addition\n",
        "2. Subtraction\n",
        "3. Multiplication\n",
        "4. Division"
      ],
      "metadata": {
        "id": "820Y6IsmVAv5"
      }
    },
    {
      "cell_type": "code",
      "source": [
        "print(6+3)\n",
        "print(6-3)\n",
        "print(6*3)\n",
        "print(6//3)"
      ],
      "metadata": {
        "colab": {
          "base_uri": "https://localhost:8080/"
        },
        "id": "EzCSWAcXVCRV",
        "outputId": "9a77face-17ae-4aaf-9088-9320dc6d22f5"
      },
      "execution_count": 24,
      "outputs": [
        {
          "output_type": "stream",
          "name": "stdout",
          "text": [
            "9\n",
            "3\n",
            "18\n",
            "2\n"
          ]
        }
      ]
    }
  ]
}